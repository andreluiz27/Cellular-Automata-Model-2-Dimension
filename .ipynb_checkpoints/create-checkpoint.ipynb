{
 "cells": [
  {
   "cell_type": "code",
   "execution_count": 625,
   "metadata": {},
   "outputs": [],
   "source": [
    "%matplotlib inline"
   ]
  },
  {
   "cell_type": "code",
   "execution_count": 626,
   "metadata": {},
   "outputs": [],
   "source": [
    "import sys\n",
    "import matplotlib.pyplot as plt\n",
    "import numpy as np\n",
    "from networkx import *\n"
   ]
  },
  {
   "cell_type": "code",
   "execution_count": 627,
   "metadata": {},
   "outputs": [],
   "source": [
    "\n",
    "#G=nx.Graph()\n",
    "n=4\n",
    "\n",
    "\n",
    "def criar(n):\n",
    "    G=nx.Graph()\n",
    "    for i in range(n**2-2):\n",
    "        G.add_node(i)\n",
    "    return G\n",
    "\n",
    "    "
   ]
  },
  {
   "cell_type": "code",
   "execution_count": 628,
   "metadata": {},
   "outputs": [],
   "source": [
    "G=criar(4)"
   ]
  },
  {
   "cell_type": "code",
   "execution_count": 629,
   "metadata": {},
   "outputs": [
    {
     "name": "stdout",
     "output_type": "stream",
     "text": [
      "1\n",
      "2\n",
      "3\n",
      "0\n",
      "1\n",
      "2\n",
      "3\n",
      "0\n",
      "1\n",
      "2\n",
      "3\n",
      "0\n",
      "1\n",
      "2\n",
      "3\n",
      "{0: [-1.0, 1.0], 1: [-0.75, 1.0], 2: [-0.5, 1.0], 3: [-0.25, 1.0], 4: [-1.0, 0.75], 5: [-0.75, 0.75], 6: [-0.5, 0.75], 7: [-0.25, 0.75], 8: [-1.0, 0.5], 9: [-0.75, 0.5], 10: [-0.5, 0.5], 11: [-0.25, 0.5], 12: [-1.0, 0.25], 13: [-0.75, 0.25], 14: [-0.5, 0.25], 15: [-0.25, 0.25]}\n"
     ]
    },
    {
     "data": {
      "text/plain": [
       "dict"
      ]
     },
     "execution_count": 629,
     "metadata": {},
     "output_type": "execute_result"
    }
   ],
   "source": [
    "p=1/n\n",
    "x=-1.00\n",
    "y=1.00\n",
    "pos={}\n",
    "pos[0]=[x,y]\n",
    "for i in range(1,n*n):\n",
    "  #  pos[i]=[x,y]\n",
    "    x=x+p\n",
    "    print(i % n)\n",
    "    if i % n == 0:\n",
    "        x=-1.00\n",
    "        y=y-p\n",
    "        \n",
    "    pos[i]=[x,y]\n",
    "print(pos)\n",
    "type(pos)"
   ]
  },
  {
   "cell_type": "code",
   "execution_count": 630,
   "metadata": {},
   "outputs": [
    {
     "data": {
      "text/plain": [
       "14"
      ]
     },
     "execution_count": 630,
     "metadata": {},
     "output_type": "execute_result"
    }
   ],
   "source": [
    "len(G.nodes)"
   ]
  },
  {
   "cell_type": "code",
   "execution_count": 631,
   "metadata": {},
   "outputs": [],
   "source": [
    "def borda_esquerda(valor,n):\n",
    "    if valor % n == 0:\n",
    "        return True\n",
    "    else:\n",
    "        return False\n",
    "    \n",
    "def borda_direita(valor,n):\n",
    "    if valor % n== n-1:\n",
    "        return True \n",
    "    else:\n",
    "        return False\n",
    "\n",
    "def borda_superior(valor,n):\n",
    "    if valor - n <0:\n",
    "        return True\n",
    "    else:\n",
    "        return False\n",
    "\n",
    "def borda_inferior(valor,n):\n",
    "    if valor + n > n**2-1:\n",
    "        return True\n",
    "    else:\n",
    "        return False\n",
    "\n",
    "    \n",
    "    \n",
    "\n",
    "\n",
    "\n"
   ]
  },
  {
   "cell_type": "code",
   "execution_count": null,
   "metadata": {},
   "outputs": [],
   "source": []
  },
  {
   "cell_type": "code",
   "execution_count": 642,
   "metadata": {},
   "outputs": [],
   "source": [
    "\n",
    "\n",
    "\n",
    "for i in range(0,n**2-1):\n",
    "    if borda_superior(i,n):\n",
    "        if borda_direita(i,n):\n",
    "            G.add_edge(i,i+(n**2-n)) #cima\n",
    "            G.add_edge(i,i-1)         #esquerda\n",
    "            G.add_edge(i,i-(n-1))#direita\n",
    "            G.add_edge(i,i+n)#baixo\n",
    "\n",
    "        elif borda_esquerda(i,n): \n",
    "            G.add_edge(i,i+(n**2-n))#cima\n",
    "            G.add_edge(i,i+(n-1))  #esquerda\n",
    "            G.add_edge(i,i+1)  #direita\n",
    "            G.add_edge(i,i+n) #baixo\n",
    "        else:\n",
    "            G.add_edge(i,i+(n**2-n))\n",
    "            G.add_edge(i,i-1)\n",
    "            G.add_edge(i,i+1)\n",
    "            G.add_edge(i,i+n)\n",
    "\n",
    "    elif borda_inferior(i,n):\n",
    "        if borda_direita(i,n):\n",
    "            G.add_edge(i,i-n)\n",
    "            G.add_edge(i,i-(n-1))\n",
    "            G.add_edge(i,i-1)\n",
    "            G.add_edge(i,i-(n**2-n))\n",
    "        elif borda_esquerda(i,n):\n",
    "            G.add_edge(i,i-n)\n",
    "            G.add_edge(i,i+(n-1))\n",
    "            G.add_edge(i,i+1)\n",
    "            G.add_edge(i,i-(n**2-n)) \n",
    "        else:\n",
    "            G.add_edge(i,i-n)\n",
    "            G.add_edge(i,i-1)\n",
    "            G.add_edge(i,i+1)\n",
    "            G.add_edge(i,i-(n**2-n)) \n",
    "\n",
    "    else:\n",
    "        if borda_direita(i,n):\n",
    "            G.add_edge(i,i-n)\n",
    "            G.add_edge(i,i-(n-1))\n",
    "            G.add_edge(i,i-1)\n",
    "            G.add_edge(i,i+n)\n",
    "        elif borda_esquerda(i,n):\n",
    "            G.add_edge(i,i-n) #cima\n",
    "            G.add_edge(i,i+(n-1))\n",
    "            G.add_edge(i,i-1)\n",
    "            G.add_edge(i,i+n)\n",
    "        else:\n",
    "            G.add_edge(i,i-n)\n",
    "            G.add_edge(i,i-1)\n",
    "            G.add_edge(i,i+1)\n",
    "            G.add_edge(i,i+n)\n",
    "        \n",
    "        "
   ]
  },
  {
   "cell_type": "code",
   "execution_count": 653,
   "metadata": {},
   "outputs": [
    {
     "data": {
      "text/plain": [
       "EdgeView([(0, 12), (0, 3), (0, 1), (0, 4), (1, 13), (1, 2), (1, 5), (2, 14), (2, 3), (2, 6), (3, 15), (3, 7), (3, 4), (4, 7), (4, 8), (4, 5), (5, 6), (5, 9), (6, 7), (6, 10), (7, 11), (7, 8), (8, 11), (8, 12), (8, 9), (9, 10), (9, 13), (10, 11), (10, 14), (11, 15), (12, 15), (12, 13), (13, 14), (14, 15)])"
      ]
     },
     "execution_count": 653,
     "metadata": {},
     "output_type": "execute_result"
    }
   ],
   "source": [
    "G.edges"
   ]
  },
  {
   "cell_type": "code",
   "execution_count": 652,
   "metadata": {},
   "outputs": [
    {
     "name": "stdout",
     "output_type": "stream",
     "text": [
      "0 {12: {}, 3: {}, 1: {}, 4: {}}\n",
      "1 {0: {}, 13: {}, 2: {}, 5: {}}\n",
      "2 {1: {}, 14: {}, 3: {}, 6: {}}\n",
      "3 {0: {}, 2: {}, 15: {}, 7: {}, 4: {}}\n",
      "4 {0: {}, 7: {}, 3: {}, 8: {}, 5: {}}\n",
      "5 {1: {}, 4: {}, 6: {}, 9: {}}\n",
      "6 {2: {}, 5: {}, 7: {}, 10: {}}\n",
      "7 {3: {}, 4: {}, 6: {}, 11: {}, 8: {}}\n",
      "8 {4: {}, 11: {}, 7: {}, 12: {}, 9: {}}\n",
      "9 {5: {}, 8: {}, 10: {}, 13: {}}\n",
      "10 {6: {}, 9: {}, 11: {}, 14: {}}\n",
      "11 {7: {}, 8: {}, 10: {}, 15: {}}\n",
      "12 {0: {}, 8: {}, 15: {}, 13: {}}\n",
      "13 {1: {}, 9: {}, 12: {}, 14: {}}\n",
      "14 {2: {}, 10: {}, 13: {}, 15: {}}\n",
      "15 {3: {}, 11: {}, 12: {}, 14: {}}\n"
     ]
    }
   ],
   "source": [
    "for i in range(n**2):\n",
    "    print(i,G[i])\n",
    "\n",
    "\n",
    "    "
   ]
  },
  {
   "cell_type": "code",
   "execution_count": 649,
   "metadata": {},
   "outputs": [
    {
     "name": "stdout",
     "output_type": "stream",
     "text": [
      "{1: {}, 14: {}, 3: {}, 6: {}}\n"
     ]
    }
   ],
   "source": []
  },
  {
   "cell_type": "code",
   "execution_count": 634,
   "metadata": {},
   "outputs": [
    {
     "data": {
      "image/png": "[encoded data removed]",
      "text/plain": [
       "<Figure size 432x288 with 1 Axes>"
      ]
     },
     "metadata": {
      "needs_background": "light"
     },
     "output_type": "display_data"
    }
   ],
   "source": [
    "\n",
    "draw_networkx(G,node_size=125,pos=pos,periodic=True)"
   ]
  },
  {
   "cell_type": "code",
   "execution_count": 635,
   "metadata": {},
   "outputs": [
    {
     "data": {
      "text/plain": [
       "13"
      ]
     },
     "execution_count": 635,
     "metadata": {},
     "output_type": "execute_result"
    }
   ],
   "source": [
    "list(G.nodes)[-3]"
   ]
  },
  {
   "cell_type": "code",
   "execution_count": 636,
   "metadata": {},
   "outputs": [
    {
     "data": {
      "text/plain": [
       "EdgeView([(0, 12), (0, 3), (0, 1), (0, 4), (1, 13), (1, 2), (1, 5), (2, 14), (2, 3), (2, 6), (3, 15), (3, 7), (3, 4), (4, 7), (4, 8), (4, 5), (5, 6), (5, 9), (6, 7), (6, 10), (7, 11), (7, 8), (8, 11), (8, 12), (8, 9), (9, 10), (9, 13), (10, 11), (10, 14), (11, 15), (12, 15), (12, 13), (13, 14), (14, 15)])"
      ]
     },
     "execution_count": 636,
     "metadata": {},
     "output_type": "execute_result"
    }
   ],
   "source": [
    "G.edges"
   ]
  },
  {
   "cell_type": "code",
   "execution_count": null,
   "metadata": {},
   "outputs": [],
   "source": []
  },
  {
   "cell_type": "code",
   "execution_count": 637,
   "metadata": {},
   "outputs": [
    {
     "data": {
      "text/plain": [
       "EdgeView([(0, 12), (0, 3), (0, 1), (0, 4), (1, 13), (1, 2), (1, 5), (2, 14), (2, 3), (2, 6), (3, 15), (3, 7), (3, 4), (4, 7), (4, 8), (4, 5), (5, 6), (5, 9), (6, 7), (6, 10), (7, 11), (7, 8), (8, 11), (8, 12), (8, 9), (9, 10), (9, 13), (10, 11), (10, 14), (11, 15), (12, 15), (12, 13), (13, 14), (14, 15)])"
      ]
     },
     "execution_count": 637,
     "metadata": {},
     "output_type": "execute_result"
    }
   ],
   "source": [
    "G.edges"
   ]
  },
  {
   "cell_type": "code",
   "execution_count": 638,
   "metadata": {},
   "outputs": [
    {
     "data": {
      "text/plain": [
       "16"
      ]
     },
     "execution_count": 638,
     "metadata": {},
     "output_type": "execute_result"
    }
   ],
   "source": [
    "len(G)"
   ]
  },
  {
   "cell_type": "code",
   "execution_count": 639,
   "metadata": {},
   "outputs": [
    {
     "data": {
      "text/plain": [
       "34"
      ]
     },
     "execution_count": 639,
     "metadata": {},
     "output_type": "execute_result"
    }
   ],
   "source": [
    "len(G.edges)"
   ]
  },
  {
   "cell_type": "code",
   "execution_count": 640,
   "metadata": {},
   "outputs": [
    {
     "data": {
      "text/plain": [
       "<dict_keyiterator at 0x7f28a606b818>"
      ]
     },
     "execution_count": 640,
     "metadata": {},
     "output_type": "execute_result"
    }
   ],
   "source": [
    "neighbors(G,0)"
   ]
  },
  {
   "cell_type": "code",
   "execution_count": 641,
   "metadata": {},
   "outputs": [
    {
     "name": "stdout",
     "output_type": "stream",
     "text": [
      "[0, 1, 2, 3, 4, 5, 6, 7, 8, 9, 10, 11, 12, 13, 14, 15]\n"
     ]
    }
   ],
   "source": [
    "myit=iter(G.nodes)\n",
    "type(myit)\n",
    "\n",
    "lista=list(G.nodes)\n",
    "type(G.nodes)\n",
    "type(lista)\n",
    "print(lista)\n"
   ]
  },
  {
   "cell_type": "code",
   "execution_count": null,
   "metadata": {},
   "outputs": [],
   "source": []
  },
  {
   "cell_type": "code",
   "execution_count": null,
   "metadata": {},
   "outputs": [],
   "source": []
  }
 ],
 "metadata": {
  "kernelspec": {
   "display_name": "Python 3",
   "language": "python",
   "name": "python3"
  },
  "language_info": {
   "codemirror_mode": {
    "name": "ipython",
    "version": 3
   },
   "file_extension": ".py",
   "mimetype": "text/x-python",
   "name": "python",
   "nbconvert_exporter": "python",
   "pygments_lexer": "ipython3",
   "version": "3.7.1"
  }
 },
 "nbformat": 4,
 "nbformat_minor": 2
}
