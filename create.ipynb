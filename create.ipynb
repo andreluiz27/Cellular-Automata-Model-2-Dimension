{
 "cells": [
  {
   "cell_type": "code",
   "execution_count": 1,
   "metadata": {},
   "outputs": [],
   "source": [
    "%matplotlib inline"
   ]
  },
  {
   "cell_type": "code",
   "execution_count": 2,
   "metadata": {},
   "outputs": [],
   "source": [
    "import sys\n",
    "import matplotlib.pyplot as plt\n",
    "import numpy as np\n",
    "from networkx import *\n"
   ]
  },
  {
   "cell_type": "code",
   "execution_count": 3,
   "metadata": {},
   "outputs": [],
   "source": [
    "\n",
    "#G=nx.Graph()\n",
    "n=4\n",
    "\n",
    "\n",
    "def criar(n):\n",
    "    G=nx.Graph()\n",
    "    for i in range(n**2-2):\n",
    "        G.add_node(i)\n",
    "    return G\n",
    "\n",
    "    "
   ]
  },
  {
   "cell_type": "code",
   "execution_count": 4,
   "metadata": {},
   "outputs": [],
   "source": [
    "G=criar(4)"
   ]
  },
  {
   "cell_type": "code",
   "execution_count": 5,
   "metadata": {},
   "outputs": [
    {
     "name": "stdout",
     "output_type": "stream",
     "text": [
      "1\n",
      "2\n",
      "3\n",
      "0\n",
      "1\n",
      "2\n",
      "3\n",
      "0\n",
      "1\n",
      "2\n",
      "3\n",
      "0\n",
      "1\n",
      "2\n",
      "3\n",
      "{0: [-1.0, 1.0], 1: [-0.75, 1.0], 2: [-0.5, 1.0], 3: [-0.25, 1.0], 4: [-1.0, 0.75], 5: [-0.75, 0.75], 6: [-0.5, 0.75], 7: [-0.25, 0.75], 8: [-1.0, 0.5], 9: [-0.75, 0.5], 10: [-0.5, 0.5], 11: [-0.25, 0.5], 12: [-1.0, 0.25], 13: [-0.75, 0.25], 14: [-0.5, 0.25], 15: [-0.25, 0.25]}\n"
     ]
    },
    {
     "data": {
      "text/plain": [
       "dict"
      ]
     },
     "execution_count": 5,
     "metadata": {},
     "output_type": "execute_result"
    }
   ],
   "source": [
    "p=1/n\n",
    "x=-1.00\n",
    "y=1.00\n",
    "pos={}\n",
    "pos[0]=[x,y]\n",
    "for i in range(1,n*n):\n",
    "  #  pos[i]=[x,y]\n",
    "    x=x+p\n",
    "    print(i % n)\n",
    "    if i % n == 0:\n",
    "        x=-1.00\n",
    "        y=y-p\n",
    "        \n",
    "    pos[i]=[x,y]\n",
    "print(pos)\n",
    "type(pos)"
   ]
  },
  {
   "cell_type": "code",
   "execution_count": 6,
   "metadata": {},
   "outputs": [
    {
     "data": {
      "text/plain": [
       "14"
      ]
     },
     "execution_count": 6,
     "metadata": {},
     "output_type": "execute_result"
    }
   ],
   "source": [
    "len(G.nodes)"
   ]
  },
  {
   "cell_type": "code",
   "execution_count": 7,
   "metadata": {},
   "outputs": [],
   "source": [
    "def borda_esquerda(valor,n):\n",
    "    if valor % n == 0:\n",
    "        return True\n",
    "    else:\n",
    "        return False\n",
    "    \n",
    "def borda_direita(valor,n):\n",
    "    if valor % n== n-1:\n",
    "        return True \n",
    "    else:\n",
    "        return False\n",
    "\n",
    "def borda_superior(valor,n):\n",
    "    if valor - n <0:\n",
    "        return True\n",
    "    else:\n",
    "        return False\n",
    "\n",
    "def borda_inferior(valor,n):\n",
    "    if valor + n > n**2-1:\n",
    "        return True\n",
    "    else:\n",
    "        return False\n",
    "\n",
    "    \n",
    "    \n",
    "\n",
    "\n",
    "\n"
   ]
  },
  {
   "cell_type": "code",
   "execution_count": null,
   "metadata": {},
   "outputs": [],
   "source": []
  },
  {
   "cell_type": "code",
   "execution_count": 8,
   "metadata": {},
   "outputs": [],
   "source": [
    "\n",
    "\n",
    "\n",
    "for i in range(0,n**2-1):\n",
    "    if borda_superior(i,n):\n",
    "        if borda_direita(i,n):\n",
    "            G.add_edge(i,i+(n**2-n)) #cima\n",
    "            G.add_edge(i,i-1)         #esquerda\n",
    "            G.add_edge(i,i-(n-1))#direita\n",
    "            G.add_edge(i,i+n)#baixo\n",
    "\n",
    "        elif borda_esquerda(i,n): \n",
    "            G.add_edge(i,i+(n**2-n))#cima\n",
    "            G.add_edge(i,i+(n-1))  #esquerda\n",
    "            G.add_edge(i,i+1)  #direita\n",
    "            G.add_edge(i,i+n) #baixo\n",
    "        else:\n",
    "            G.add_edge(i,i+(n**2-n))\n",
    "            G.add_edge(i,i-1)\n",
    "            G.add_edge(i,i+1)\n",
    "            G.add_edge(i,i+n)\n",
    "\n",
    "    elif borda_inferior(i,n):\n",
    "        if borda_direita(i,n):\n",
    "            G.add_edge(i,i-n)\n",
    "            G.add_edge(i,i-(n-1))\n",
    "            G.add_edge(i,i-1)\n",
    "            G.add_edge(i,i-(n**2-n))\n",
    "        elif borda_esquerda(i,n):\n",
    "            G.add_edge(i,i-n)\n",
    "            G.add_edge(i,i+(n-1))\n",
    "            G.add_edge(i,i+1)\n",
    "            G.add_edge(i,i-(n**2-n)) \n",
    "        else:\n",
    "            G.add_edge(i,i-n)\n",
    "            G.add_edge(i,i-1)\n",
    "            G.add_edge(i,i+1)\n",
    "            G.add_edge(i,i-(n**2-n)) \n",
    "\n",
    "    else:\n",
    "        if borda_direita(i,n):\n",
    "            G.add_edge(i,i-n)\n",
    "            G.add_edge(i,i-(n-1))\n",
    "            G.add_edge(i,i-1)\n",
    "            G.add_edge(i,i+n)\n",
    "        elif borda_esquerda(i,n):\n",
    "            G.add_edge(i,i-n) #cima\n",
    "            G.add_edge(i,i+(n-1)) #esquerda\n",
    "            G.add_edge(i,i+1)#direita\n",
    "            G.add_edge(i,i+n) #baixo\n",
    "        else:\n",
    "            G.add_edge(i,i-n)\n",
    "            G.add_edge(i,i-1)\n",
    "            G.add_edge(i,i+1)\n",
    "            G.add_edge(i,i+n)\n",
    "        \n",
    "        "
   ]
  },
  {
   "cell_type": "code",
   "execution_count": 9,
   "metadata": {},
   "outputs": [
    {
     "data": {
      "text/plain": [
       "EdgeView([(0, 12), (0, 3), (0, 1), (0, 4), (1, 13), (1, 2), (1, 5), (2, 14), (2, 3), (2, 6), (3, 15), (3, 7), (4, 7), (4, 5), (4, 8), (5, 6), (5, 9), (6, 7), (6, 10), (7, 11), (8, 11), (8, 9), (8, 12), (9, 10), (9, 13), (10, 11), (10, 14), (11, 15), (12, 15), (12, 13), (13, 14), (14, 15)])"
      ]
     },
     "execution_count": 9,
     "metadata": {},
     "output_type": "execute_result"
    }
   ],
   "source": [
    "G.edges"
   ]
  },
  {
   "cell_type": "code",
   "execution_count": 10,
   "metadata": {},
   "outputs": [
    {
     "name": "stdout",
     "output_type": "stream",
     "text": [
      "0 {12: {}, 3: {}, 1: {}, 4: {}}\n",
      "1 {0: {}, 13: {}, 2: {}, 5: {}}\n",
      "2 {1: {}, 14: {}, 3: {}, 6: {}}\n",
      "3 {0: {}, 2: {}, 15: {}, 7: {}}\n",
      "4 {0: {}, 7: {}, 5: {}, 8: {}}\n",
      "5 {1: {}, 4: {}, 6: {}, 9: {}}\n",
      "6 {2: {}, 5: {}, 7: {}, 10: {}}\n",
      "7 {3: {}, 4: {}, 6: {}, 11: {}}\n",
      "8 {4: {}, 11: {}, 9: {}, 12: {}}\n",
      "9 {5: {}, 8: {}, 10: {}, 13: {}}\n",
      "10 {6: {}, 9: {}, 11: {}, 14: {}}\n",
      "11 {7: {}, 8: {}, 10: {}, 15: {}}\n",
      "12 {0: {}, 8: {}, 15: {}, 13: {}}\n",
      "13 {1: {}, 9: {}, 12: {}, 14: {}}\n",
      "14 {2: {}, 10: {}, 13: {}, 15: {}}\n",
      "15 {3: {}, 11: {}, 12: {}, 14: {}}\n"
     ]
    }
   ],
   "source": [
    "for i in range(n**2):\n",
    "    print(i,G[i])\n",
    "\n",
    "\n",
    "    "
   ]
  },
  {
   "cell_type": "code",
   "execution_count": 11,
   "metadata": {},
   "outputs": [
    {
     "data": {
      "text/plain": [
       "['r',\n",
       " 'r',\n",
       " 'r',\n",
       " 'r',\n",
       " 'r',\n",
       " 'r',\n",
       " 'r',\n",
       " 'r',\n",
       " 'r',\n",
       " 'r',\n",
       " 'r',\n",
       " 'r',\n",
       " 'r',\n",
       " 'r',\n",
       " 'r',\n",
       " 'r']"
      ]
     },
     "execution_count": 11,
     "metadata": {},
     "output_type": "execute_result"
    }
   ],
   "source": [
    "\n",
    "estados=np.zeros(len(G),dtype=np.int)\n",
    "\n",
    "\n",
    "v_map={}\n",
    "for i in range(len(G)):\n",
    "    v_map[i]=0\n",
    "    \n",
    "\n",
    "\n",
    "cmap=[]\n",
    "\n",
    "\n",
    "for i in range(0,len(G)):\n",
    "    cmap.append('r')\n",
    "    \n",
    "    \n",
    "def muda_cor(mapa_cores,indice,cor_desejada):\n",
    "    mapa_cores[indice]=cor_desejada\n",
    "    return mapa_cores\n",
    "    \n",
    "\n",
    "\n",
    "\n",
    "\n",
    "muda_cor(cmap,3,'r')\n",
    "\n",
    "\n",
    "\n",
    "\n"
   ]
  },
  {
   "cell_type": "code",
   "execution_count": 12,
   "metadata": {},
   "outputs": [
    {
     "data": {
      "text/plain": [
       "0"
      ]
     },
     "execution_count": 12,
     "metadata": {},
     "output_type": "execute_result"
    }
   ],
   "source": [
    "v_map[0]"
   ]
  },
  {
   "cell_type": "code",
   "execution_count": 13,
   "metadata": {},
   "outputs": [],
   "source": [
    "nodos=list(G.nodes)"
   ]
  },
  {
   "cell_type": "code",
   "execution_count": 14,
   "metadata": {},
   "outputs": [
    {
     "data": {
      "text/plain": [
       "AtlasView({0: {}, 2: {}, 15: {}, 7: {}})"
      ]
     },
     "execution_count": 14,
     "metadata": {},
     "output_type": "execute_result"
    }
   ],
   "source": [
    "G[3]"
   ]
  },
  {
   "cell_type": "code",
   "execution_count": null,
   "metadata": {},
   "outputs": [],
   "source": []
  },
  {
   "cell_type": "code",
   "execution_count": null,
   "metadata": {},
   "outputs": [],
   "source": []
  },
  {
   "cell_type": "code",
   "execution_count": 15,
   "metadata": {},
   "outputs": [
    {
     "data": {
      "text/plain": [
       "[1, 14, 3, 6]"
      ]
     },
     "execution_count": 15,
     "metadata": {},
     "output_type": "execute_result"
    }
   ],
   "source": [
    "list(G[2])"
   ]
  },
  {
   "cell_type": "code",
   "execution_count": null,
   "metadata": {},
   "outputs": [],
   "source": []
  },
  {
   "cell_type": "code",
   "execution_count": 16,
   "metadata": {},
   "outputs": [
    {
     "data": {
      "text/plain": [
       "array([0, 0, 0, 0, 0, 0, 0, 0, 0, 0, 0, 0, 0, 0, 0, 0])"
      ]
     },
     "execution_count": 16,
     "metadata": {},
     "output_type": "execute_result"
    }
   ],
   "source": [
    "estados"
   ]
  },
  {
   "cell_type": "code",
   "execution_count": 17,
   "metadata": {},
   "outputs": [],
   "source": [
    "estados[3]=1\n"
   ]
  },
  {
   "cell_type": "code",
   "execution_count": 18,
   "metadata": {},
   "outputs": [
    {
     "name": "stdout",
     "output_type": "stream",
     "text": [
      "[0 0 0 1 0 0 0 0 0 0 0 0 0 0 0 0]\n"
     ]
    }
   ],
   "source": [
    "print(estados)"
   ]
  },
  {
   "cell_type": "code",
   "execution_count": 19,
   "metadata": {},
   "outputs": [
    {
     "data": {
      "text/plain": [
       "AtlasView({0: {}, 2: {}, 15: {}, 7: {}})"
      ]
     },
     "execution_count": 19,
     "metadata": {},
     "output_type": "execute_result"
    }
   ],
   "source": [
    "G[3]"
   ]
  },
  {
   "cell_type": "code",
   "execution_count": 20,
   "metadata": {},
   "outputs": [],
   "source": [
    "list(v_map)\n",
    "\n",
    "\n",
    "def paridade(G,nodo,estados):\n",
    "\n",
    "    L=list(G[nodo])\n",
    "    soma=estados[L[0]]+estados[L[1]]+estados[L[2]]+estados[L[3]]\n",
    "    if soma % 2 == 0:\n",
    "        return 0\n",
    "    else:\n",
    "        return 1\n",
    "    \n",
    "    \n"
   ]
  },
  {
   "cell_type": "code",
   "execution_count": 21,
   "metadata": {},
   "outputs": [],
   "source": [
    "par= paridade(G,3,estados)"
   ]
  },
  {
   "cell_type": "code",
   "execution_count": 22,
   "metadata": {},
   "outputs": [
    {
     "data": {
      "text/plain": [
       "0"
      ]
     },
     "execution_count": 22,
     "metadata": {},
     "output_type": "execute_result"
    }
   ],
   "source": [
    "par"
   ]
  },
  {
   "cell_type": "code",
   "execution_count": 23,
   "metadata": {},
   "outputs": [],
   "source": [
    "\n",
    "for i in range(len(v_map)):\n",
    "    v_map[i]=estados[i]\n"
   ]
  },
  {
   "cell_type": "code",
   "execution_count": 24,
   "metadata": {},
   "outputs": [
    {
     "data": {
      "text/plain": [
       "{0: 0,\n",
       " 1: 0,\n",
       " 2: 0,\n",
       " 3: 1,\n",
       " 4: 0,\n",
       " 5: 0,\n",
       " 6: 0,\n",
       " 7: 0,\n",
       " 8: 0,\n",
       " 9: 0,\n",
       " 10: 0,\n",
       " 11: 0,\n",
       " 12: 0,\n",
       " 13: 0,\n",
       " 14: 0,\n",
       " 15: 0}"
      ]
     },
     "execution_count": 24,
     "metadata": {},
     "output_type": "execute_result"
    }
   ],
   "source": [
    "v_map"
   ]
  },
  {
   "cell_type": "code",
   "execution_count": null,
   "metadata": {},
   "outputs": [],
   "source": []
  },
  {
   "cell_type": "code",
   "execution_count": 25,
   "metadata": {},
   "outputs": [],
   "source": [
    "def atualiza_cor(valores,cores):\n",
    "\n",
    "    for i in range(len(valores)):\n",
    "        if valores[i] == 0:\n",
    "            muda_cor(cmap,i,'r')\n",
    "        else:\n",
    "            muda_cor(cmap,i,'b')\n",
    "            \n",
    "    return cores       "
   ]
  },
  {
   "cell_type": "code",
   "execution_count": null,
   "metadata": {},
   "outputs": [],
   "source": []
  },
  {
   "cell_type": "code",
   "execution_count": 26,
   "metadata": {},
   "outputs": [
    {
     "name": "stderr",
     "output_type": "stream",
     "text": [
      "/home/andrenogueira/anaconda3/lib/python3.7/site-packages/networkx/drawing/nx_pylab.py:611: MatplotlibDeprecationWarning: isinstance(..., numbers.Number)\n",
      "  if cb.is_numlike(alpha):\n"
     ]
    },
    {
     "data": {
      "image/png": "[encoded data removed]",
      "text/plain": [
       "<Figure size 432x288 with 1 Axes>"
      ]
     },
     "metadata": {
      "needs_background": "light"
     },
     "output_type": "display_data"
    }
   ],
   "source": [
    "\n",
    "draw_networkx(G,node_size=125,pos=pos,periodic=True,node_color=cmap,values=v_map) #values=v_map #v_map={}"
   ]
  },
  {
   "cell_type": "code",
   "execution_count": null,
   "metadata": {},
   "outputs": [],
   "source": []
  },
  {
   "cell_type": "code",
   "execution_count": 44,
   "metadata": {},
   "outputs": [
    {
     "name": "stdout",
     "output_type": "stream",
     "text": [
      "{0: 0, 1: 0, 2: 0, 3: 1, 4: 0, 5: 0, 6: 0, 7: 0, 8: 0, 9: 0, 10: 0, 11: 0, 12: 0, 13: 0, 14: 0, 15: 0}\n"
     ]
    },
    {
     "data": {
      "image/png": "[encoded data removed]",
      "text/plain": [
       "<Figure size 432x288 with 1 Axes>"
      ]
     },
     "metadata": {},
     "output_type": "display_data"
    },
    {
     "name": "stdout",
     "output_type": "stream",
     "text": [
      "[0 0 0 1 0 0 0 0 0 0 0 0 0 0 0 0]\n"
     ]
    },
    {
     "data": {
      "image/png": "[encoded data removed]",
      "text/plain": [
       "<Figure size 432x288 with 1 Axes>"
      ]
     },
     "metadata": {},
     "output_type": "display_data"
    },
    {
     "name": "stdout",
     "output_type": "stream",
     "text": [
      "[1 1 0 1 1 0 0 0 1 1 1 0 0 0 1 0]\n"
     ]
    },
    {
     "data": {
      "image/png": "[encoded data removed]",
      "text/plain": [
       "<Figure size 432x288 with 1 Axes>"
      ]
     },
     "metadata": {},
     "output_type": "display_data"
    },
    {
     "name": "stdout",
     "output_type": "stream",
     "text": [
      "[1 1 1 0 0 0 0 0 1 0 1 0 0 0 0 0]\n"
     ]
    },
    {
     "data": {
      "image/png": "[encoded data removed]",
      "text/plain": [
       "<Figure size 432x288 with 1 Axes>"
      ]
     },
     "metadata": {},
     "output_type": "display_data"
    },
    {
     "name": "stdout",
     "output_type": "stream",
     "text": [
      "[1 0 0 1 0 0 1 0 0 1 0 0 1 0 0 0]\n"
     ]
    },
    {
     "data": {
      "image/png": "[encoded data removed]",
      "text/plain": [
       "<Figure size 432x288 with 1 Axes>"
      ]
     },
     "metadata": {},
     "output_type": "display_data"
    },
    {
     "name": "stdout",
     "output_type": "stream",
     "text": [
      "[0 0 0 0 0 0 0 0 0 0 0 0 0 0 0 0]\n"
     ]
    },
    {
     "data": {
      "image/png": "[encoded data removed]",
      "text/plain": [
       "<Figure size 432x288 with 1 Axes>"
      ]
     },
     "metadata": {},
     "output_type": "display_data"
    },
    {
     "name": "stdout",
     "output_type": "stream",
     "text": [
      "[0 0 0 0 0 0 0 0 0 0 0 0 0 0 0 0]\n"
     ]
    },
    {
     "data": {
      "image/png": "[encoded data removed]",
      "text/plain": [
       "<Figure size 432x288 with 1 Axes>"
      ]
     },
     "metadata": {},
     "output_type": "display_data"
    },
    {
     "name": "stdout",
     "output_type": "stream",
     "text": [
      "[0 0 0 0 0 0 0 0 0 0 0 0 0 0 0 0]\n"
     ]
    },
    {
     "data": {
      "image/png": "[encoded data removed]",
      "text/plain": [
       "<Figure size 432x288 with 1 Axes>"
      ]
     },
     "metadata": {},
     "output_type": "display_data"
    },
    {
     "name": "stdout",
     "output_type": "stream",
     "text": [
      "[0 0 0 0 0 0 0 0 0 0 0 0 0 0 0 0]\n"
     ]
    },
    {
     "data": {
      "image/png": "[encoded data removed]",
      "text/plain": [
       "<Figure size 432x288 with 1 Axes>"
      ]
     },
     "metadata": {},
     "output_type": "display_data"
    },
    {
     "name": "stdout",
     "output_type": "stream",
     "text": [
      "[0 0 0 0 0 0 0 0 0 0 0 0 0 0 0 0]\n"
     ]
    },
    {
     "data": {
      "image/png": "[encoded data removed]",
      "text/plain": [
       "<Figure size 432x288 with 1 Axes>"
      ]
     },
     "metadata": {},
     "output_type": "display_data"
    },
    {
     "name": "stdout",
     "output_type": "stream",
     "text": [
      "[0 0 0 0 0 0 0 0 0 0 0 0 0 0 0 0]\n"
     ]
    }
   ],
   "source": [
    "\n",
    "estado_inicial=np.zeros(len(G),dtype=np.int)\n",
    "estado_inicial[3]=1\n",
    "estados1=estado_inicial\n",
    "\n",
    "for k in range(len(v_map)):\n",
    "        v_map[k]=estado_inicial[k]\n",
    "#print(v_map)\n",
    "\n",
    "\n",
    "  #  plt.figure(i)   \n",
    " #   draw(G,node_size=125,pos=pos,periodic=True,node_color=cmap,values=v_map)\n",
    "#    plt.show()\n",
    " # print(paridade(G,i,estados1))\n",
    "print(v_map)            \n",
    "\n",
    "\n",
    "\n",
    "\n",
    "temp=estados1\n",
    "\n",
    "t=10\n",
    "for i in range(t):\n",
    "\n",
    "    cmap=atualiza_cor(v_map,cmap) \n",
    "    plt.figure(i)   \n",
    "    draw(G,node_size=125,pos=pos,periodic=True,node_color=cmap,values=v_map)\n",
    "    plt.show()\n",
    "     \n",
    "    print(estados1)\n",
    "    for j in range(0,len(estados1)):\n",
    "        \n",
    "        estados1[j]=paridade(G,j,temp)\n",
    "        temp=estados1\n",
    "        \n",
    "        \n",
    "        v_map[j]=estados1[j] \n",
    "\n",
    "  \n",
    "  \n",
    "   # cmap=atualiza_cor(v_map,cmap)  \n",
    " #   print(cmap)\n",
    "  \n",
    "    "
   ]
  },
  {
   "cell_type": "code",
   "execution_count": 28,
   "metadata": {},
   "outputs": [
    {
     "data": {
      "text/plain": [
       "13"
      ]
     },
     "execution_count": 28,
     "metadata": {},
     "output_type": "execute_result"
    }
   ],
   "source": [
    "list(G.nodes)[-3]"
   ]
  },
  {
   "cell_type": "code",
   "execution_count": null,
   "metadata": {},
   "outputs": [],
   "source": []
  },
  {
   "cell_type": "code",
   "execution_count": null,
   "metadata": {},
   "outputs": [],
   "source": []
  },
  {
   "cell_type": "code",
   "execution_count": null,
   "metadata": {},
   "outputs": [],
   "source": []
  },
  {
   "cell_type": "code",
   "execution_count": 29,
   "metadata": {},
   "outputs": [
    {
     "data": {
      "text/plain": [
       "EdgeView([(0, 12), (0, 3), (0, 1), (0, 4), (1, 13), (1, 2), (1, 5), (2, 14), (2, 3), (2, 6), (3, 15), (3, 7), (4, 7), (4, 5), (4, 8), (5, 6), (5, 9), (6, 7), (6, 10), (7, 11), (8, 11), (8, 9), (8, 12), (9, 10), (9, 13), (10, 11), (10, 14), (11, 15), (12, 15), (12, 13), (13, 14), (14, 15)])"
      ]
     },
     "execution_count": 29,
     "metadata": {},
     "output_type": "execute_result"
    }
   ],
   "source": [
    "G.edges"
   ]
  },
  {
   "cell_type": "code",
   "execution_count": null,
   "metadata": {},
   "outputs": [],
   "source": []
  },
  {
   "cell_type": "code",
   "execution_count": 30,
   "metadata": {},
   "outputs": [
    {
     "data": {
      "text/plain": [
       "EdgeView([(0, 12), (0, 3), (0, 1), (0, 4), (1, 13), (1, 2), (1, 5), (2, 14), (2, 3), (2, 6), (3, 15), (3, 7), (4, 7), (4, 5), (4, 8), (5, 6), (5, 9), (6, 7), (6, 10), (7, 11), (8, 11), (8, 9), (8, 12), (9, 10), (9, 13), (10, 11), (10, 14), (11, 15), (12, 15), (12, 13), (13, 14), (14, 15)])"
      ]
     },
     "execution_count": 30,
     "metadata": {},
     "output_type": "execute_result"
    }
   ],
   "source": [
    "G.edges"
   ]
  },
  {
   "cell_type": "code",
   "execution_count": 31,
   "metadata": {},
   "outputs": [
    {
     "data": {
      "text/plain": [
       "16"
      ]
     },
     "execution_count": 31,
     "metadata": {},
     "output_type": "execute_result"
    }
   ],
   "source": [
    "len(G)"
   ]
  },
  {
   "cell_type": "code",
   "execution_count": 32,
   "metadata": {},
   "outputs": [
    {
     "data": {
      "text/plain": [
       "32"
      ]
     },
     "execution_count": 32,
     "metadata": {},
     "output_type": "execute_result"
    }
   ],
   "source": [
    "len(G.edges)"
   ]
  },
  {
   "cell_type": "code",
   "execution_count": 33,
   "metadata": {},
   "outputs": [
    {
     "data": {
      "text/plain": [
       "<dict_keyiterator at 0x7ffa2a1bc818>"
      ]
     },
     "execution_count": 33,
     "metadata": {},
     "output_type": "execute_result"
    }
   ],
   "source": [
    "neighbors(G,0)"
   ]
  },
  {
   "cell_type": "code",
   "execution_count": 34,
   "metadata": {},
   "outputs": [
    {
     "name": "stdout",
     "output_type": "stream",
     "text": [
      "[0, 1, 2, 3, 4, 5, 6, 7, 8, 9, 10, 11, 12, 13, 14, 15]\n"
     ]
    }
   ],
   "source": [
    "myit=iter(G.nodes)\n",
    "type(myit)\n",
    "\n",
    "lista=list(G.nodes)\n",
    "type(G.nodes)\n",
    "type(lista)\n",
    "print(lista)\n"
   ]
  },
  {
   "cell_type": "code",
   "execution_count": null,
   "metadata": {},
   "outputs": [],
   "source": []
  },
  {
   "cell_type": "code",
   "execution_count": null,
   "metadata": {},
   "outputs": [],
   "source": []
  }
 ],
 "metadata": {
  "kernelspec": {
   "display_name": "Python 3",
   "language": "python",
   "name": "python3"
  },
  "language_info": {
   "codemirror_mode": {
    "name": "ipython",
    "version": 3
   },
   "file_extension": ".py",
   "mimetype": "text/x-python",
   "name": "python",
   "nbconvert_exporter": "python",
   "pygments_lexer": "ipython3",
   "version": "3.7.1"
  }
 },
 "nbformat": 4,
 "nbformat_minor": 2
}
